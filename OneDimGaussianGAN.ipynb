{
 "cells": [
  {
   "cell_type": "code",
   "execution_count": null,
   "id": "fea9ec3e",
   "metadata": {},
   "outputs": [],
   "source": [
    "from torchkit.plotwidget import PlotWidget\n",
    "from torchkit.labwidget import Range\n",
    "from torchkit import show\n",
    "import torch\n",
    "\n",
    "def gaussian_model(x, mean, variance):\n",
    "    return torch.exp(-(x - mean) ** 2 / variance) / torch.sqrt(2 * torch.pi * variance)\n",
    "\n",
    "def make_gaussian_model(mean, variance):\n",
    "    return lambda x: gaussian_model(x, torch.tensor(mean), torch.tensor(variance))\n",
    "\n",
    "def discriminator(x, p_true, p_gen):\n",
    "    return p_true(x) / (p_true(x) + p_gen(x))\n",
    "\n",
    "def redraw_rule(fig, gen_mean=0.0, gen_variance=1.0, true_mean=3.0, true_variance=0.5):\n",
    "    [ax] = fig.axes\n",
    "    x_range = torch.arange(-3, 6, 0.1)\n",
    "    true_model = make_gaussian_model(true_mean, true_variance)\n",
    "    gen_model = make_gaussian_model(gen_mean, gen_variance)\n",
    "    ax.clear()\n",
    "    ax.set_title('The GAN game: try to minimize the maximum of the discriminator')\n",
    "    ax.plot(x_range, true_model(x_range), label='$p_t$ true distribution')\n",
    "    ax.plot(x_range, gen_model(x_range), label='$p_G$ generator distribution')\n",
    "    ax.plot(x_range, discriminator(x_range, true_model, gen_model), label='$D$ discriminator')\n",
    "    ax.axhline(discriminator(x_range, true_model, gen_model).max(), ls='--', color='green', label=\"$D$ max\")\n",
    "    ax.set_ylim(-0.05, 1.05)\n",
    "    ax.legend(loc='upper left')\n",
    "if False:\n",
    "    plot = PlotWidget(redraw_rule)\n",
    "    mean_slider = Range(value=plot.gen_mean, min=-5, max=5, step=0.01).on('value', lambda v: setattr(plot, 'gen_mean',v))\n",
    "    var_slider = Range(value=plot.gen_variance, min=0.1, max=1.9, step=0.01).on('value', lambda v: setattr(plot, 'gen_variance', v))\n",
    "    show([[plot, 'Generator Mean', mean_slider, 'Generator Variance', var_slider]])\n",
    "\n",
    "mean_slider = Range(value=0, min=-5, max=5, step=0.01)\n",
    "var_slider = Range(value=1.0, min=0.1, max=1.9, step=0.01)\n",
    "plot = PlotWidget(redraw_rule, gen_mean=mean_slider.prop('value'), gen_variance=var_slider.prop('value'))\n",
    "show([[plot, 'Generator Mean', mean_slider, 'Generator Variance', var_slider]])\n",
    "\n",
    "\n",
    "    "
   ]
  }
 ],
 "metadata": {
  "kernelspec": {
   "display_name": "Python 3 (ipykernel)",
   "language": "python",
   "name": "python3"
  },
  "language_info": {
   "codemirror_mode": {
    "name": "ipython",
    "version": 3
   },
   "file_extension": ".py",
   "mimetype": "text/x-python",
   "name": "python",
   "nbconvert_exporter": "python",
   "pygments_lexer": "ipython3",
   "version": "3.7.12"
  }
 },
 "nbformat": 4,
 "nbformat_minor": 5
}