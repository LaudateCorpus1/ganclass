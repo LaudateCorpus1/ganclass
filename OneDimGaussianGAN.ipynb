{
 "cells": [
  {
   "cell_type": "code",
   "execution_count": null,
   "id": "f1f18331",
   "metadata": {},
   "outputs": [],
   "source": [
    "%%bash\n",
    "!(stat -t /usr/local/lib/*/dist-packages/google/colab > /dev/null 2>&1) && exit\n",
    "pip install git+https://github.com/davidbau/torchkit"
   ]
  },
  {
   "cell_type": "code",
   "execution_count": null,
   "id": "77842dfa",
   "metadata": {},
   "outputs": [],
   "source": [
    "from torchkit.plotwidget import PlotWidget\n",
    "from torchkit.labwidget import Range, Textbox\n",
    "from torchkit import show\n",
    "import torch\n",
    "\n",
    "def gaussian_model(x, mean, variance):\n",
    "    return torch.exp(-(x - mean) ** 2 / variance) / torch.sqrt(2 * torch.pi * variance)\n",
    "\n",
    "def make_gaussian_model(mean, variance):\n",
    "    return lambda x: gaussian_model(x, torch.tensor(mean), torch.tensor(variance))\n",
    "\n",
    "def discriminator(x, p_true, p_gen):\n",
    "    return p_true(x) / (p_true(x) + p_gen(x))\n",
    "\n",
    "def value_fn(x, p_true, p_gen):\n",
    "    d = discriminator(x, p_true, p_gen)\n",
    "    return p_true(x) * torch.log(d) + p_gen(x) * torch.log(1 - d)\n",
    "\n",
    "def redraw_rule(fig, gen_mean=0.0, gen_variance=1.0, true_mean=3.0, true_variance=0.5):\n",
    "    if len(fig.axes) == 1:\n",
    "       ax2 = fig.axes[0].twinx()\n",
    "    [ax, ax2] = fig.axes\n",
    "    x_range = torch.arange(-3, 6, 0.1)\n",
    "    true_model = make_gaussian_model(true_mean, true_variance)\n",
    "    gen_model = make_gaussian_model(gen_mean, gen_variance)\n",
    "    ax2.clear()\n",
    "    ax2.set_ylim(-1.05, 0.05)\n",
    "    ax2.fill_between(x_range, value_fn(x_range, true_model, gen_model),\n",
    "                     alpha=0.5, color='red', lw=0, label='$V$ value')\n",
    "    ax.clear()\n",
    "    ax.set_title('The GAN game: try to minimize the maximum of the discriminator')\n",
    "    ax.plot(x_range, gen_model(x_range), linewidth=3, label='$p_G$ generator distribution')\n",
    "    ax.plot(x_range, true_model(x_range), label='$p_t$ target distribution')\n",
    "    ax.plot(x_range, discriminator(x_range, true_model, gen_model), label='$D$ discriminator')\n",
    "    ax.set_ylim(-0.05, 1.05)\n",
    "    ax.legend(loc='upper left')\n",
    "    ax2.legend(loc='center right')\n",
    "\n",
    "plot = PlotWidget(redraw_rule)\n",
    "mean_slider = Range(value=plot.prop('gen_mean'), min=-5, max=5, step=0.01)\n",
    "mean_input = Textbox(value=plot.prop('gen_mean'))\n",
    "var_slider = Range(value=plot.prop('gen_variance'), min=0.1, max=1.9, step=0.01)\n",
    "var_input = Textbox(value=plot.prop('gen_variance'))\n",
    "show([[plot, 'Generator Mean', mean_slider, mean_input, 'Generator Variance', var_slider, var_input]])\n"
   ]
  }
 ],
 "metadata": {
  "kernelspec": {
   "display_name": "Python 3 (ipykernel)",
   "language": "python",
   "name": "python3"
  },
  "language_info": {
   "codemirror_mode": {
    "name": "ipython",
    "version": 3
   },
   "file_extension": ".py",
   "mimetype": "text/x-python",
   "name": "python",
   "nbconvert_exporter": "python",
   "pygments_lexer": "ipython3",
   "version": "3.7.12"
  }
 },
 "nbformat": 4,
 "nbformat_minor": 5
}